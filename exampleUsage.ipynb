{
 "cells": [
  {
   "cell_type": "code",
   "execution_count": 1,
   "id": "f460f024-62fa-4947-be3c-0f7bf0fa64ca",
   "metadata": {},
   "outputs": [],
   "source": [
    "import probeFilters"
   ]
  },
  {
   "cell_type": "code",
   "execution_count": 3,
   "id": "7e72c7da-2018-4c80-b391-dc3de739b963",
   "metadata": {},
   "outputs": [
    {
     "name": "stdout",
     "output_type": "stream",
     "text": [
      "Selecting probes from Ripe-Atlas...this may take a while.\n",
      "Selecting 50 probes for diversity...this may take a while.\n",
      "id: 6025 \tasn: 8839 \tlongitude/latitude: [7.7485, 48.5795]\n",
      "id: 50313 \tasn: 23655 \tlongitude/latitude: [172.6475, -43.5715]\n",
      "id: 6349 \tasn: 2716 \tlongitude/latitude: [-51.1205, -30.0685]\n",
      "id: 10080 \tasn: 2516 \tlongitude/latitude: [139.4315, 35.9175]\n",
      "id: 53929 \tasn: 22773 \tlongitude/latitude: [-112.5815, 33.3715]\n",
      "id: 33470 \tasn: 3215 \tlongitude/latitude: [55.6605, -21.3625]\n",
      "id: 25398 \tasn: 24560 \tlongitude/latitude: [77.1915, 28.5615]\n",
      "id: 18840 \tasn: 133809 \tlongitude/latitude: [112.7295, -7.3225]\n",
      "id: 6765 \tasn: 27781 \tlongitude/latitude: [-63.0495, 18.0295]\n",
      "id: 7050 \tasn: 328913 \tlongitude/latitude: [9.7695, 4.0475]\n",
      "id: 53098 \tasn: 9471 \tlongitude/latitude: [-149.5585, -17.5385]\n",
      "id: 19053 \tasn: 20001 \tlongitude/latitude: [-155.6705, 20.0085]\n",
      "id: 33160 \tasn: 37199 \tlongitude/latitude: [18.4105, -33.9225]\n",
      "id: 54550 \tasn: 12714 \tlongitude/latitude: [65.3695, 62.1275]\n",
      "id: 53788 \tasn: 39891 \tlongitude/latitude: [39.1915, 21.4915]\n",
      "id: 23396 \tasn: 852 \tlongitude/latitude: [-64.5485, 48.8705]\n",
      "id: 52247 \tasn: 4764 \tlongitude/latitude: [138.6895, -34.7095]\n",
      "id: 20750 \tasn: 18403 \tlongitude/latitude: [105.8095, 21.0275]\n",
      "id: 51529 \tasn: 55805 \tlongitude/latitude: [106.9085, 47.9215]\n",
      "id: 23573 \tasn: 61468 \tlongitude/latitude: [-79.0195, -2.8815]\n",
      "id: 50483 \tasn: 3243 \tlongitude/latitude: [-31.1285, 39.4585]\n",
      "id: 22215 \tasn: 328162 \tlongitude/latitude: [39.5875, -4.0105]\n",
      "id: 18733 \tasn: 38229 \tlongitude/latitude: [80.5785, 5.9385]\n",
      "id: 35556 \tasn: 263824 \tlongitude/latitude: [-89.0805, 17.1505]\n",
      "id: 31103 \tasn: 15474 \tlongitude/latitude: [-21.9625, 64.1385]\n",
      "id: 7018 \tasn: 45345 \tlongitude/latitude: [166.4575, -22.2685]\n",
      "id: 29369 \tasn: 64429 \tlongitude/latitude: [39.4205, 47.0615]\n",
      "id: 7057 \tasn: 28186 \tlongitude/latitude: [-38.4505, -12.9795]\n",
      "id: 19160 \tasn: 135132 \tlongitude/latitude: [123.9105, 10.3175]\n",
      "id: 10441 \tasn: 852 \tlongitude/latitude: [-113.3005, 53.5275]\n",
      "id: 55842 \tasn: 10796 \tlongitude/latitude: [-87.6405, 37.6485]\n",
      "id: 29811 \tasn: 812 \tlongitude/latitude: [-73.0225, -36.9525]\n",
      "id: 6915 \tasn: 137409 \tlongitude/latitude: [115.7975, -31.9605]\n",
      "id: 21660 \tasn: 27839 \tlongitude/latitude: [-66.1595, -17.3925]\n",
      "id: 6536 \tasn: 200675 \tlongitude/latitude: [21.6785, 65.8105]\n",
      "id: 31130 \tasn: 8529 \tlongitude/latitude: [58.5385, 23.5975]\n",
      "id: 33825 \tasn: 4788 \tlongitude/latitude: [100.3085, 5.3395]\n",
      "id: 52744 \tasn: 3243 \tlongitude/latitude: [-8.5505, 37.1295]\n",
      "id: 32684 \tasn: 6799 \tlongitude/latitude: [24.1115, 35.5195]\n",
      "id: 21673 \tasn: 37532 \tlongitude/latitude: [28.3205, -15.3915]\n",
      "id: 55328 \tasn: 4134 \tlongitude/latitude: [120.1185, 30.2815]\n",
      "id: 6752 \tasn: 48503 \tlongitude/latitude: [71.3795, 42.8985]\n",
      "id: 51328 \tasn: 8151 \tlongitude/latitude: [-102.5115, 22.7615]\n",
      "id: 50635 \tasn: 44285 \tlongitude/latitude: [51.2885, 35.7595]\n",
      "id: 51451 \tasn: 10143 \tlongitude/latitude: [152.9195, -27.6825]\n",
      "id: 6606 \tasn: 202422 \tlongitude/latitude: [135.0975, 48.5005]\n",
      "id: 24908 \tasn: 20115 \tlongitude/latitude: [-124.4225, 43.0515]\n",
      "id: 6785 \tasn: 58717 \tlongitude/latitude: [90.3915, 23.7495]\n",
      "id: 51835 \tasn: 38077 \tlongitude/latitude: [125.5585, -8.5605]\n",
      "id: 23077 \tasn: 7922 \tlongitude/latitude: [-80.1495, 26.5705]\n"
     ]
    }
   ],
   "source": [
    "#Selecting probes based on tag (by default, dual-stack probes with recent hardware)\n",
    "probes = probeFilters.get_probes_by_tag()\n",
    "subset = probeFilters.select_diverse_subset(probes, 50, 2)\n",
    "probeFilters.print_probe_list(subset)"
   ]
  },
  {
   "cell_type": "code",
   "execution_count": 4,
   "id": "7cc550ee-db22-4dbb-ab37-63c126aebda4",
   "metadata": {},
   "outputs": [
    {
     "name": "stdout",
     "output_type": "stream",
     "text": [
      "Fetching probe data from Ripe-Atlas...this may take a while.\n",
      "Selecting 5 probes for diversity...this may take a while.\n",
      "id: 21660 \tasn: 27839 \tlongitude/latitude: [-66.1595, -17.3925]\n",
      "id: 55328 \tasn: 4134 \tlongitude/latitude: [120.1185, 30.2815]\n",
      "id: 21673 \tasn: 37532 \tlongitude/latitude: [28.3205, -15.3915]\n",
      "id: 6536 \tasn: 200675 \tlongitude/latitude: [21.6785, 65.8105]\n",
      "id: 51451 \tasn: 10143 \tlongitude/latitude: [152.9195, -27.6825]\n"
     ]
    }
   ],
   "source": [
    "#Selecting subset of probes from a list of probe ids\n",
    "probes = probeFilters.get_probes_by_id([21660, 6536, 31130, 33825, 52744, 32684, 21673, 55328, 6752, 51451])\n",
    "subset = probeFilters.select_diverse_subset(probes, 5, 2)\n",
    "probeFilters.print_probe_list(subset)"
   ]
  }
 ],
 "metadata": {
  "kernelspec": {
   "display_name": "Python 3 (ipykernel)",
   "language": "python",
   "name": "python3"
  },
  "language_info": {
   "codemirror_mode": {
    "name": "ipython",
    "version": 3
   },
   "file_extension": ".py",
   "mimetype": "text/x-python",
   "name": "python",
   "nbconvert_exporter": "python",
   "pygments_lexer": "ipython3",
   "version": "3.9.10"
  }
 },
 "nbformat": 4,
 "nbformat_minor": 5
}
